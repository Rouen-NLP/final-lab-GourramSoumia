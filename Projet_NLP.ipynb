{
 "cells": [
  {
   "cell_type": "markdown",
   "metadata": {},
   "source": [
    "# Final-Lab"
   ]
  },
  {
   "cell_type": "markdown",
   "metadata": {},
   "source": [
    "## Packages nécessaire"
   ]
  },
  {
   "cell_type": "code",
   "execution_count": 3,
   "metadata": {},
   "outputs": [],
   "source": [
    "import seaborn as sns\n",
    "import pandas as pd\n",
    "import os \n",
    "from sklearn.linear_model import LogisticRegression\n",
    "from sklearn.neural_network import MLPClassifier\n",
    "from sklearn.metrics import accuracy_score"
   ]
  },
  {
   "cell_type": "markdown",
   "metadata": {},
   "source": [
    "## Analyse des données"
   ]
  },
  {
   "cell_type": "code",
   "execution_count": 4,
   "metadata": {
    "scrolled": false
   },
   "outputs": [
    {
     "name": "stdout",
     "output_type": "stream",
     "text": [
      " Le nombre d'article  3482\n"
     ]
    }
   ],
   "source": [
    "# Récupération des données\n",
    "data = pd.read_csv(\"Tobacco3482.csv\")\n",
    "print (\" Le nombre d'article \", len(data))\n"
   ]
  },
  {
   "cell_type": "code",
   "execution_count": 5,
   "metadata": {},
   "outputs": [
    {
     "data": {
      "text/html": [
       "<div>\n",
       "<style scoped>\n",
       "    .dataframe tbody tr th:only-of-type {\n",
       "        vertical-align: middle;\n",
       "    }\n",
       "\n",
       "    .dataframe tbody tr th {\n",
       "        vertical-align: top;\n",
       "    }\n",
       "\n",
       "    .dataframe thead th {\n",
       "        text-align: right;\n",
       "    }\n",
       "</style>\n",
       "<table border=\"1\" class=\"dataframe\">\n",
       "  <thead>\n",
       "    <tr style=\"text-align: right;\">\n",
       "      <th></th>\n",
       "      <th>img_path</th>\n",
       "      <th>label</th>\n",
       "    </tr>\n",
       "  </thead>\n",
       "  <tbody>\n",
       "    <tr>\n",
       "      <th>2141</th>\n",
       "      <td>Memo/2051691699_2051691700.jpg</td>\n",
       "      <td>Memo</td>\n",
       "    </tr>\n",
       "    <tr>\n",
       "      <th>3182</th>\n",
       "      <td>Resume/50553047-3048.jpg</td>\n",
       "      <td>Resume</td>\n",
       "    </tr>\n",
       "    <tr>\n",
       "      <th>1178</th>\n",
       "      <td>Form/506483587_506483588.jpg</td>\n",
       "      <td>Form</td>\n",
       "    </tr>\n",
       "    <tr>\n",
       "      <th>1324</th>\n",
       "      <td>Letter/13010826_13010827.jpg</td>\n",
       "      <td>Letter</td>\n",
       "    </tr>\n",
       "    <tr>\n",
       "      <th>1667</th>\n",
       "      <td>Letter/516028154+-8154.jpg</td>\n",
       "      <td>Letter</td>\n",
       "    </tr>\n",
       "    <tr>\n",
       "      <th>1471</th>\n",
       "      <td>Letter/504334188_504334189.jpg</td>\n",
       "      <td>Letter</td>\n",
       "    </tr>\n",
       "    <tr>\n",
       "      <th>3162</th>\n",
       "      <td>Resume/50497931-7932.jpg</td>\n",
       "      <td>Resume</td>\n",
       "    </tr>\n",
       "    <tr>\n",
       "      <th>1220</th>\n",
       "      <td>Form/522691957+-1957.jpg</td>\n",
       "      <td>Form</td>\n",
       "    </tr>\n",
       "    <tr>\n",
       "      <th>97</th>\n",
       "      <td>Advertisement/2084420704.jpg</td>\n",
       "      <td>Advertisement</td>\n",
       "    </tr>\n",
       "    <tr>\n",
       "      <th>2745</th>\n",
       "      <td>Note/2048858141.jpg</td>\n",
       "      <td>Note</td>\n",
       "    </tr>\n",
       "  </tbody>\n",
       "</table>\n",
       "</div>"
      ],
      "text/plain": [
       "                            img_path          label\n",
       "2141  Memo/2051691699_2051691700.jpg           Memo\n",
       "3182        Resume/50553047-3048.jpg         Resume\n",
       "1178    Form/506483587_506483588.jpg           Form\n",
       "1324    Letter/13010826_13010827.jpg         Letter\n",
       "1667      Letter/516028154+-8154.jpg         Letter\n",
       "1471  Letter/504334188_504334189.jpg         Letter\n",
       "3162        Resume/50497931-7932.jpg         Resume\n",
       "1220        Form/522691957+-1957.jpg           Form\n",
       "97      Advertisement/2084420704.jpg  Advertisement\n",
       "2745             Note/2048858141.jpg           Note"
      ]
     },
     "execution_count": 5,
     "metadata": {},
     "output_type": "execute_result"
    }
   ],
   "source": [
    "data.sample(10)"
   ]
  },
  {
   "cell_type": "code",
   "execution_count": 6,
   "metadata": {
    "scrolled": true
   },
   "outputs": [
    {
     "data": {
      "text/plain": [
       "<matplotlib.axes._subplots.AxesSubplot at 0x113475bd7f0>"
      ]
     },
     "execution_count": 6,
     "metadata": {},
     "output_type": "execute_result"
    },
    {
     "data": {
      "image/png": "[encoded data removed]",
      "text/plain": [
       "<Figure size 432x288 with 1 Axes>"
      ]
     },
     "metadata": {
      "needs_background": "light"
     },
     "output_type": "display_data"
    }
   ],
   "source": [
    "# Afficher les statistiques des labels\n",
    "sns.countplot(data=data, y = 'label')\n"
   ]
  },
  {
   "cell_type": "code",
   "execution_count": 7,
   "metadata": {},
   "outputs": [],
   "source": [
    "# Récupération des fichiers\n",
    "Classes = os.listdir('data/Tobacco3482-OCR' )\n",
    "\n",
    "text=[]\n",
    "Contenus=[]\n",
    "label=[]\n",
    "\n",
    "# Le nombre de classes\n",
    "c = len(Classes)\n",
    "for i in range(c):\n",
    "    # Récupération des fichiers txt de chaque classe\n",
    "    Contenus.append(os.listdir('data/Tobacco3482-OCR/%s' %Classes[i]))\n",
    "    \n",
    "    # OUvrir les fichiers txt et récupérer le texte \n",
    "    for j in range(len(Contenus[i])):\n",
    "        op=open('data/Tobacco3482-OCR/%s/%s' %(Classes[i],Contenus[i][j]), encoding=\"utf8\")\n",
    "        text.append(op.read())\n",
    "        label.append(Classes[i])"
   ]
  },
  {
   "cell_type": "code",
   "execution_count": 8,
   "metadata": {},
   "outputs": [],
   "source": [
    "#%% Création d'une dataframe\n",
    "       \n",
    "DF=pd.DataFrame()\n",
    "DF['text'] = text\n",
    "DF['label'] = label"
   ]
  },
  {
   "cell_type": "code",
   "execution_count": 9,
   "metadata": {},
   "outputs": [
    {
     "data": {
      "text/html": [
       "<div>\n",
       "<style scoped>\n",
       "    .dataframe tbody tr th:only-of-type {\n",
       "        vertical-align: middle;\n",
       "    }\n",
       "\n",
       "    .dataframe tbody tr th {\n",
       "        vertical-align: top;\n",
       "    }\n",
       "\n",
       "    .dataframe thead th {\n",
       "        text-align: right;\n",
       "    }\n",
       "</style>\n",
       "<table border=\"1\" class=\"dataframe\">\n",
       "  <thead>\n",
       "    <tr style=\"text-align: right;\">\n",
       "      <th></th>\n",
       "      <th>text</th>\n",
       "      <th>label</th>\n",
       "    </tr>\n",
       "  </thead>\n",
       "  <tbody>\n",
       "    <tr>\n",
       "      <th>0</th>\n",
       "      <td>A Mpertant as yar\\nsesiye teaetered cabiieess....</td>\n",
       "      <td>Advertisement</td>\n",
       "    </tr>\n",
       "    <tr>\n",
       "      <th>1</th>\n",
       "      <td>TE che fitm\\n\\nm66400 7127\\n\\nKOOLS are the on...</td>\n",
       "      <td>Advertisement</td>\n",
       "    </tr>\n",
       "    <tr>\n",
       "      <th>2</th>\n",
       "      <td>so ARN Rr nr\\n\\nBWR Ga ||\\n\\nVending Operators...</td>\n",
       "      <td>Advertisement</td>\n",
       "    </tr>\n",
       "    <tr>\n",
       "      <th>3</th>\n",
       "      <td>MARCH 24,19 VO — 3. Tersrearep\\n\\n \\n\\n‘ yi il...</td>\n",
       "      <td>Advertisement</td>\n",
       "    </tr>\n",
       "    <tr>\n",
       "      <th>4</th>\n",
       "      <td>~\\n\\nSpend a milder moment qs\\nwith Raleigh.\\n...</td>\n",
       "      <td>Advertisement</td>\n",
       "    </tr>\n",
       "    <tr>\n",
       "      <th>5</th>\n",
       "      <td>SR Onrel ules cee\\nNee dss\\n\\nThe one tales WT...</td>\n",
       "      <td>Advertisement</td>\n",
       "    </tr>\n",
       "    <tr>\n",
       "      <th>6</th>\n",
       "      <td>&amp;\\nBR. :\\ner non\\n\\nbe 4\\nop Re eo eee ee eee ...</td>\n",
       "      <td>Advertisement</td>\n",
       "    </tr>\n",
       "    <tr>\n",
       "      <th>7</th>\n",
       "      <td>{ae} BUIseaUT OY |\\n--uoanyf{sanosdun |.\\nLIYL...</td>\n",
       "      <td>Advertisement</td>\n",
       "    </tr>\n",
       "    <tr>\n",
       "      <th>8</th>\n",
       "      <td>. “So that’s he\\nany newspapel\\n“That's how,\\n...</td>\n",
       "      <td>Advertisement</td>\n",
       "    </tr>\n",
       "    <tr>\n",
       "      <th>9</th>\n",
       "      <td>BROWN &amp; “WILLIAM ON:\\n\\n;, mY To Man\\n\\nMarfan...</td>\n",
       "      <td>Advertisement</td>\n",
       "    </tr>\n",
       "  </tbody>\n",
       "</table>\n",
       "</div>"
      ],
      "text/plain": [
       "                                                text          label\n",
       "0  A Mpertant as yar\\nsesiye teaetered cabiieess....  Advertisement\n",
       "1  TE che fitm\\n\\nm66400 7127\\n\\nKOOLS are the on...  Advertisement\n",
       "2  so ARN Rr nr\\n\\nBWR Ga ||\\n\\nVending Operators...  Advertisement\n",
       "3  MARCH 24,19 VO — 3. Tersrearep\\n\\n \\n\\n‘ yi il...  Advertisement\n",
       "4  ~\\n\\nSpend a milder moment qs\\nwith Raleigh.\\n...  Advertisement\n",
       "5  SR Onrel ules cee\\nNee dss\\n\\nThe one tales WT...  Advertisement\n",
       "6  &\\nBR. :\\ner non\\n\\nbe 4\\nop Re eo eee ee eee ...  Advertisement\n",
       "7  {ae} BUIseaUT OY |\\n--uoanyf{sanosdun |.\\nLIYL...  Advertisement\n",
       "8  . “So that’s he\\nany newspapel\\n“That's how,\\n...  Advertisement\n",
       "9  BROWN & “WILLIAM ON:\\n\\n;, mY To Man\\n\\nMarfan...  Advertisement"
      ]
     },
     "execution_count": 9,
     "metadata": {},
     "output_type": "execute_result"
    }
   ],
   "source": [
    "DF[:10]"
   ]
  },
  {
   "cell_type": "markdown",
   "metadata": {},
   "source": [
    "## Split the Database"
   ]
  },
  {
   "cell_type": "code",
   "execution_count": 10,
   "metadata": {},
   "outputs": [
    {
     "name": "stdout",
     "output_type": "stream",
     "text": [
      "nb apprentissage : (2228,)\n",
      "nb test: (697,)\n",
      "nb validation: (557,)\n"
     ]
    }
   ],
   "source": [
    "from sklearn.model_selection import train_test_split\n",
    "\n",
    "X_train,X_test, y_train,y_test = train_test_split(DF.text, DF.label, test_size=0.20, \n",
    "                                                random_state=1)\n",
    "\n",
    "X_train, X_dev, y_train, y_dev = train_test_split(X_train, y_train, test_size=0.20, \n",
    "                                                random_state=1)\n",
    "\n",
    "print('nb apprentissage :' ,X_train.shape)\n",
    "print('nb test:', X_test.shape)\n",
    "print('nb validation:', X_dev.shape)\n"
   ]
  },
  {
   "cell_type": "markdown",
   "metadata": {},
   "source": [
    "## Vectorisation"
   ]
  },
  {
   "cell_type": "code",
   "execution_count": 11,
   "metadata": {},
   "outputs": [
    {
     "name": "stdout",
     "output_type": "stream",
     "text": [
      "nb apprentissage : (2228, 3000)\n",
      "nb test: (697, 3000)\n",
      "nb validation: (557, 3000)\n"
     ]
    }
   ],
   "source": [
    "from sklearn.feature_extraction.text import CountVectorizer\n",
    "\n",
    "vectorizer = CountVectorizer(max_features=3000)\n",
    "vectorizer.fit(X_train)\n",
    "\n",
    "X_train_vect = vectorizer.transform(X_train)\n",
    "X_test_vect= vectorizer.transform(X_test)\n",
    "X_dev_vect= vectorizer.transform(X_dev)\n",
    "\n",
    "print('nb apprentissage :' ,X_train_vect.shape)\n",
    "print('nb test:', X_test_vect.shape)\n",
    "print('nb validation:', X_dev_vect.shape)\n"
   ]
  },
  {
   "cell_type": "markdown",
   "metadata": {},
   "source": [
    "## Représentation Tf-IDF "
   ]
  },
  {
   "cell_type": "code",
   "execution_count": 12,
   "metadata": {},
   "outputs": [],
   "source": [
    "from sklearn.feature_extraction.text import TfidfTransformer\n",
    "\n",
    "tf_transformer = TfidfTransformer().fit(X_train_vect)\n",
    "\n",
    "#transformation tf-idf des ensemble train et test\n",
    "X_train_tf = tf_transformer.transform(X_train_vect)\n",
    "X_test_tf = tf_transformer.transform(X_test_vect)\n",
    "X_dev_tf = tf_transformer.transform(X_dev_vect)"
   ]
  },
  {
   "cell_type": "markdown",
   "metadata": {},
   "source": [
    "## Naive Bayes"
   ]
  },
  {
   "cell_type": "code",
   "execution_count": 13,
   "metadata": {},
   "outputs": [
    {
     "name": "stdout",
     "output_type": "stream",
     "text": [
      "Le score obtenu pour les données d app: 84.29084380610414 %\n",
      "Le score obtenu pour les données de test: 72.02295552367288 %\n",
      "Le score obtenu pour les données de val: 73.24955116696589 %\n"
     ]
    }
   ],
   "source": [
    "# On entraine nos Naives Bayes\n",
    "from sklearn.naive_bayes import MultinomialNB\n",
    "\n",
    "model = MultinomialNB()\n",
    "model.fit(X_train_vect, y_train)\n",
    "\n",
    "# Observasion de la prédiction\n",
    "predictions1 = model.predict(X_train_vect)\n",
    "predictions2 = model.predict(X_test_vect)\n",
    "predictions3 = model.predict(X_dev_vect)\n",
    "\n",
    "accuracy = accuracy_score(predictions1, y_train)\n",
    "print('Le score obtenu pour les données d app:',accuracy*100,'%' )\n",
    "accuracy = accuracy_score(predictions2, y_test)\n",
    "print('Le score obtenu pour les données de test:',accuracy*100,'%' )\n",
    "accuracy = accuracy_score(predictions3, y_dev)\n",
    "print('Le score obtenu pour les données de val:',accuracy*100,'%' )"
   ]
  },
  {
   "cell_type": "markdown",
   "metadata": {},
   "source": [
    "### Naive bayes with Tf-Idf representation"
   ]
  },
  {
   "cell_type": "code",
   "execution_count": 14,
   "metadata": {},
   "outputs": [
    {
     "name": "stdout",
     "output_type": "stream",
     "text": [
      "Le score obtenu pour les données d app: 75.76301615798923 %\n",
      "Le score obtenu pour les données de test: 66.42754662840747 %\n",
      "Le score obtenu pour les données de val: 67.3249551166966 %\n"
     ]
    }
   ],
   "source": [
    "from sklearn.naive_bayes import MultinomialNB\n",
    "\n",
    "model = MultinomialNB()\n",
    "model.fit(X_train_tf, y_train)\n",
    "\n",
    "# Observasion de la prédiction\n",
    "predictions1 = model.predict(X_train_tf)\n",
    "predictions2 = model.predict(X_test_tf)\n",
    "predictions3 = model.predict(X_dev_tf)\n",
    "\n",
    "accuracy = accuracy_score(predictions1, y_train)\n",
    "print('Le score obtenu pour les données d app:',accuracy*100,'%' )\n",
    "accuracy = accuracy_score(predictions2, y_test)\n",
    "print('Le score obtenu pour les données de test:',accuracy*100,'%' )\n",
    "accuracy = accuracy_score(predictions3, y_dev)\n",
    "print('Le score obtenu pour les données de val:',accuracy*100,'%' )"
   ]
  },
  {
   "cell_type": "code",
   "execution_count": 49,
   "metadata": {},
   "outputs": [
    {
     "name": "stdout",
     "output_type": "stream",
     "text": [
      "               precision    recall  f1-score   support\n",
      "\n",
      "Advertisement       0.56      0.67      0.61        45\n",
      "        Email       0.97      0.94      0.96       125\n",
      "         Form       0.75      0.81      0.78        91\n",
      "       Letter       0.69      0.68      0.68       108\n",
      "         Memo       0.65      0.71      0.68       132\n",
      "         News       0.56      0.63      0.59        30\n",
      "         Note       0.48      0.31      0.38        39\n",
      "       Report       0.58      0.51      0.54        55\n",
      "       Resume       0.96      1.00      0.98        26\n",
      "   Scientific       0.74      0.61      0.67        46\n",
      "\n",
      "  avg / total       0.72      0.72      0.72       697\n",
      "\n"
     ]
    },
    {
     "data": {
      "text/plain": [
       "<matplotlib.axes._subplots.AxesSubplot at 0x26317d26358>"
      ]
     },
     "execution_count": 49,
     "metadata": {},
     "output_type": "execute_result"
    },
    {
     "data": {
      "image/png": "[encoded data removed]",
      "text/plain": [
       "<Figure size 432x288 with 2 Axes>"
      ]
     },
     "metadata": {
      "needs_background": "light"
     },
     "output_type": "display_data"
    }
   ],
   "source": [
    "# Affichage du rapport de classification et de la matrice de confusion\n",
    "from sklearn.metrics import classification_report\n",
    "from sklearn.metrics import confusion_matrix\n",
    "\n",
    "print(classification_report(y_test, model.predict(X_test_vect)))\n",
    "cm = confusion_matrix(y_test, model.predict(X_test_vect))\n",
    "sns.heatmap(cm, annot = True)"
   ]
  },
  {
   "cell_type": "markdown",
   "metadata": {},
   "source": [
    "## Multi-Layer Perceptron"
   ]
  },
  {
   "cell_type": "code",
   "execution_count": 16,
   "metadata": {
    "scrolled": true
   },
   "outputs": [
    {
     "name": "stdout",
     "output_type": "stream",
     "text": [
      "Le score obtenu pour les données d app: 98.33931777378815 %\n",
      "Le score obtenu pour les données de test: 78.33572453371592 %\n",
      "Le score obtenu pour les données de val: 78.63554757630162 %\n"
     ]
    }
   ],
   "source": [
    " #Definition du classifieur\n",
    "classifier= MLPClassifier(alpha = 1)\n",
    "classifier.fit(X_train_vect, y_train)\n",
    "\n",
    "\n",
    "# Observasion de la prédiction\n",
    "predictions1 = classifier.predict(X_train_vect)\n",
    "predictions2 = classifier.predict(X_test_vect)\n",
    "predictions3 = classifier.predict(X_dev_vect)\n",
    "\n",
    "accuracy = accuracy_score(predictions1, y_train)\n",
    "print('Le score obtenu pour les données d app:',accuracy*100,'%' )\n",
    "accuracy = accuracy_score(predictions2, y_test)\n",
    "print('Le score obtenu pour les données de test:',accuracy*100,'%' )\n",
    "accuracy = accuracy_score(predictions3, y_dev)\n",
    "print('Le score obtenu pour les données de val:',accuracy*100,'%' )"
   ]
  },
  {
   "cell_type": "markdown",
   "metadata": {},
   "source": [
    "### MLP with TF-IDF representation"
   ]
  },
  {
   "cell_type": "code",
   "execution_count": 15,
   "metadata": {},
   "outputs": [
    {
     "name": "stdout",
     "output_type": "stream",
     "text": [
      "Le score obtenu pour les données d app: 82.54039497307002 %\n",
      "Le score obtenu pour les données de test: 73.60114777618364 %\n",
      "Le score obtenu pour les données de val: 75.04488330341114 %\n"
     ]
    }
   ],
   "source": [
    " #Definition du classifieur\n",
    "classifier= MLPClassifier(alpha = 1)\n",
    "classifier.fit(X_train_tf, y_train)\n",
    "\n",
    "\n",
    "# Observasion de la prédiction\n",
    "predictions1 = classifier.predict(X_train_tf)\n",
    "predictions2 = classifier.predict(X_test_tf)\n",
    "predictions3 = classifier.predict(X_dev_tf)\n",
    "\n",
    "accuracy = accuracy_score(predictions1, y_train)\n",
    "print('Le score obtenu pour les données d app:',accuracy*100,'%' )\n",
    "accuracy = accuracy_score(predictions2, y_test)\n",
    "print('Le score obtenu pour les données de test:',accuracy*100,'%' )\n",
    "accuracy = accuracy_score(predictions3, y_dev)\n",
    "print('Le score obtenu pour les données de val:',accuracy*100,'%' )"
   ]
  },
  {
   "cell_type": "code",
   "execution_count": 48,
   "metadata": {},
   "outputs": [
    {
     "name": "stdout",
     "output_type": "stream",
     "text": [
      "               precision    recall  f1-score   support\n",
      "\n",
      "Advertisement       0.56      0.67      0.61        45\n",
      "        Email       0.97      0.94      0.96       125\n",
      "         Form       0.75      0.81      0.78        91\n",
      "       Letter       0.69      0.68      0.68       108\n",
      "         Memo       0.65      0.71      0.68       132\n",
      "         News       0.56      0.63      0.59        30\n",
      "         Note       0.48      0.31      0.38        39\n",
      "       Report       0.58      0.51      0.54        55\n",
      "       Resume       0.96      1.00      0.98        26\n",
      "   Scientific       0.74      0.61      0.67        46\n",
      "\n",
      "  avg / total       0.72      0.72      0.72       697\n",
      "\n"
     ]
    },
    {
     "data": {
      "text/plain": [
       "<matplotlib.axes._subplots.AxesSubplot at 0x26317c51208>"
      ]
     },
     "execution_count": 48,
     "metadata": {},
     "output_type": "execute_result"
    },
    {
     "data": {
      "image/png": "[encoded data removed]",
      "text/plain": [
       "<Figure size 432x288 with 2 Axes>"
      ]
     },
     "metadata": {
      "needs_background": "light"
     },
     "output_type": "display_data"
    }
   ],
   "source": [
    "# Affichage du rapport de classification et de la matrice de confusion\n",
    "from sklearn.metrics import classification_report\n",
    "from sklearn.metrics import confusion_matrix\n",
    "\n",
    "print(classification_report(y_test, model.predict(X_test_vect)))\n",
    "cm =confusion_matrix(y_test, model.predict(X_test_vect))\n",
    "sns.heatmap(cm, annot = True)"
   ]
  },
  {
   "cell_type": "code",
   "execution_count": null,
   "metadata": {},
   "outputs": [],
   "source": []
  }
 ],
 "metadata": {
  "kernelspec": {
   "display_name": "Python 3",
   "language": "python",
   "name": "python3"
  },
  "language_info": {
   "codemirror_mode": {
    "name": "ipython",
    "version": 3
   },
   "file_extension": ".py",
   "mimetype": "text/x-python",
   "name": "python",
   "nbconvert_exporter": "python",
   "pygments_lexer": "ipython3",
   "version": "3.7.0"
  }
 },
 "nbformat": 4,
 "nbformat_minor": 2
}
